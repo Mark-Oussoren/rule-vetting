{
 "cells": [
  {
   "cell_type": "code",
   "execution_count": 33,
   "id": "4c8b27ab",
   "metadata": {},
   "outputs": [
    {
     "name": "stdout",
     "output_type": "stream",
     "text": [
      "The autoreload extension is already loaded. To reload it, use:\n",
      "  %reload_ext autoreload\n"
     ]
    }
   ],
   "source": [
    "%matplotlib inline\n",
    "%load_ext autoreload\n",
    "%autoreload 2\n",
    "\n",
    "import os\n",
    "import pickle as pkl\n",
    "from os.path import join as oj\n",
    "from io import StringIO\n",
    "from IPython.display import Image\n",
    "\n",
    "import matplotlib.pyplot as plt\n",
    "import matplotlib as mpl\n",
    "import seaborn as sns\n",
    "import numpy as np\n",
    "import pandas as pd\n",
    "# great library sourcing here...\n",
    "from sklearn import metrics\n",
    "from sklearn.metrics import roc_auc_score, classification_report, confusion_matrix\n",
    "from sklearn.tree import DecisionTreeClassifier, plot_tree, export_graphviz, _tree\n",
    "from sklearn.linear_model import LogisticRegression\n",
    "from sklearn.ensemble import AdaBoostClassifier, RandomForestClassifier\n",
    "from logitboost import LogitBoost\n",
    "from sklearn import svm\n",
    "\n",
    "import imodels\n",
    "import sys\n",
    "#sys.path.append('../../../../')\n",
    "from rulevetting.api import validation\n",
    "from rulevetting.projects.tbi_pecarn.dataset import Dataset\n",
    "from rulevetting.projects.tbi_pecarn.graph import barplot\n",
    "\n",
    "MODELS_DIR = './models'\n",
    "os.makedirs(MODELS_DIR, exist_ok=True)\n",
    "\n",
    "outcome_def = 'outcome'  # output\n",
    "data_path = '../../../../data/' # path to raw csv - change to processed...\n",
    "\n",
    "# default plotting properties - has to be an easier way then doing this every notebook\n",
    "TINY_SIZE = 10\n",
    "SMALL_SIZE = 12\n",
    "MEDIUM_SIZE = 14\n",
    "BIGGER_SIZE = 16\n",
    "MARKER_SIZE = 6\n",
    "LINE_SIZE = 4\n",
    "\n",
    "plt.rc(\"font\", size=SMALL_SIZE)  # controls default text sizes\n",
    "plt.rc(\"axes\", titlesize=BIGGER_SIZE)  # fontsize of the axes title\n",
    "plt.rc(\"axes\", labelsize=MEDIUM_SIZE)  # fontsize of the x and y labels\n",
    "plt.rc(\"xtick\", labelsize=SMALL_SIZE)  # fontsize of the tick labels\n",
    "plt.rc(\"ytick\", labelsize=SMALL_SIZE)  # fontsize of the tick labels\n",
    "plt.rc(\"legend\", fontsize=TINY_SIZE)  # legend fontsize\n",
    "plt.rc(\"figure\", titlesize=BIGGER_SIZE)  # fontsize of the figure title\n",
    "plt.rc(\"lines\", markersize=MARKER_SIZE)  # marker size\n",
    "plt.rc(\"lines\", linewidth=LINE_SIZE)  # line width\n",
    "\n",
    "mpl.rcParams[\"figure.dpi\"] = 180\n",
    "\n",
    "# Height and width per row and column of subplots\n",
    "FIG_HEIGHT = 20\n",
    "FIG_WIDTH = 18\n",
    "fig_fcn = lambda kwargs: plt.figure(figsize=(FIG_WIDTH, FIG_HEIGHT), **kwargs)\n",
    "color_list = sns.color_palette(\"colorblind\")"
   ]
  },
  {
   "cell_type": "code",
   "execution_count": 8,
   "id": "96f41dcb",
   "metadata": {},
   "outputs": [
    {
     "name": "stdout",
     "output_type": "stream",
     "text": [
      "Reading the raw CSVs... ['TBI PUD 10-08-2013.csv', 'TBI PUD Imaging.csv', 'TBI PUD Neuro.csv']\n"
     ]
    },
    {
     "name": "stderr",
     "output_type": "stream",
     "text": [
      "100%|████████████████████████████████████████████████████████████████████| 3/3 [00:02<00:00,  1.43it/s]\n",
      "/Users/sahilsaxena/rule-env/lib/python3.9/site-packages/numpy/lib/arraysetops.py:608: FutureWarning: elementwise comparison failed; returning scalar instead, but in the future will perform elementwise comparison\n",
      "  mask |= (ar1 == a)\n"
     ]
    }
   ],
   "source": [
    "# what is the purpose of this cell with the bottom one also? - probably delete this later on\n",
    "df = Dataset().clean_data(data_path = data_path)\n",
    "df = Dataset().preprocess_data(df)\n",
    "df_train, df_tune, _ = Dataset().split_data(df)\n",
    "X_train = df_train.drop(columns=outcome_def)\n",
    "y_train = df_train[outcome_def].values\n",
    "X_tune = df_tune.drop(columns=outcome_def)\n",
    "y_tune = df_tune[outcome_def].values\n",
    "processed_feats = df_train.keys().values.tolist()\n",
    "feature_names = list(X_train)\n",
    "\n",
    "\n",
    "def predict_and_save(model, model_name='decision_tree'):\n",
    "    '''Plots cv and returns cv, saves all stats\n",
    "    '''\n",
    "    results = {'model': model}\n",
    "    for x, y, suffix in zip([X_train, X_tune],\n",
    "                            [y_train, y_tune],\n",
    "                            ['_train', '_tune']):\n",
    "        stats, threshes = validation.all_stats_curve(y, model.predict_proba(x)[:, 1],\n",
    "                                                     plot=suffix == '_tune')\n",
    "        for stat in stats.keys():\n",
    "            results[stat + suffix] = stats[stat]\n",
    "        results['threshes' + suffix] = threshes\n",
    "    pkl.dump(results, open(oj(MODELS_DIR, model_name + '.pkl'), 'wb'))\n",
    "    return stats, threshes"
   ]
  },
  {
   "cell_type": "code",
   "execution_count": 9,
   "id": "175d1928",
   "metadata": {},
   "outputs": [],
   "source": [
    "simple_var_list = ['InjuryMech_Assault',\n",
    "       'InjuryMech_Bicyclist struck by automobile',\n",
    "       'InjuryMech_Bike collision/fall', 'InjuryMech_Fall down stairs',\n",
    "       'InjuryMech_Fall from an elevation',\n",
    "       'InjuryMech_Fall to ground standing/walking/running',\n",
    "       'InjuryMech_Motor vehicle collision',\n",
    "       'InjuryMech_Object struck head - accidental',\n",
    "       'InjuryMech_Other mechanism', 'InjuryMech_Other wheeled crash',\n",
    "       'InjuryMech_Pedestrian struck by moving vehicle', 'InjuryMech_Sports',\n",
    "       'InjuryMech_Walked/ran into stationary object',\n",
    "       'High_impact_InjSev_High', 'High_impact_InjSev_Low',\n",
    "       'High_impact_InjSev_Moderate', 'Amnesia_verb_No', \n",
    "       'Amnesia_verb_Pre/Non-verbal', 'Amnesia_verb_Yes',\n",
    "       'LOCSeparate_No', 'LOCSeparate_Suspected', 'LOCSeparate_Yes', \n",
    "       'Seiz', 'ActNorm', 'HA_verb_No', 'HA_verb_Pre/Non-verbal', 'HA_verb_Yes',\n",
    "        'Vomit', 'Intubated', 'Paralyzed', 'Sedated',\n",
    "       'GCSTotal', 'GCSGroup', 'AMS', 'SFxPalp_No', 'SFxPalp_Unclear', 'SFxPalp_Yes',\n",
    "       'FontBulg', 'Hema', 'Clav', 'NeuroD', 'OSI', 'Drugs', 'AgeTwoPlus', 'Gender', 'outcome']\n",
    "\n",
    "df_simp = df[simple_var_list]\n",
    "\n",
    "# Excluding samples with GCS score < 14 and dropping GCSGroup indicator\n",
    "df_simp = df_simp[df_simp['GCSTotal'] >= 14]\n",
    "df_simp = df_simp.drop(columns=[\"GCSGroup\"])\n",
    "\n",
    "# splits for simplified data \n",
    "df_simp_train, df_simp_tune, df_simp_test = Dataset().split_data(df_simp)\n",
    "X_simp_train = df_simp_train.drop(columns=outcome_def)\n",
    "y_simp_train = df_simp_train[outcome_def].values\n",
    "X_simp_tune = df_simp_tune.drop(columns=outcome_def)\n",
    "y_simp_tune = df_simp_tune[outcome_def].values\n",
    "X_simp_test = df_simp_test.drop(columns=outcome_def)\n",
    "y_simp_test = df_simp_test[outcome_def].values\n",
    "processed_feats_simp = df_simp_train.keys().values.tolist()\n",
    "feature_names_simp = list(X_simp_train)"
   ]
  },
  {
   "cell_type": "code",
   "execution_count": 57,
   "id": "8e8626e1",
   "metadata": {},
   "outputs": [
    {
     "data": {
      "text/plain": [
       "44"
      ]
     },
     "execution_count": 57,
     "metadata": {},
     "output_type": "execute_result"
    }
   ],
   "source": [
    "len(feature_names_simp)"
   ]
  },
  {
   "cell_type": "code",
   "execution_count": 31,
   "id": "3bceb8d8",
   "metadata": {},
   "outputs": [
    {
     "data": {
      "text/plain": [
       "(0.009113048943357687, 0.009898656610888523, 0.007070469007777516)"
      ]
     },
     "execution_count": 31,
     "metadata": {},
     "output_type": "execute_result"
    }
   ],
   "source": [
    "# SANITY CHECK\n",
    "train_positive_prop = sum(y_simp_train == 1) / len(y_simp_train)\n",
    "tune_positive_prop = sum(y_simp_tune == 1) / len(y_simp_tune)\n",
    "test_positive_prop = sum(y_simp_test == 1) / len(y_simp_test)\n",
    "\n",
    "train_positive_prop, tune_positive_prop, test_positive_prop"
   ]
  },
  {
   "cell_type": "markdown",
   "id": "7ea38c93",
   "metadata": {},
   "source": [
    "# SVM, with RBF kernal"
   ]
  },
  {
   "cell_type": "markdown",
   "id": "6d07ae0f",
   "metadata": {},
   "source": [
    "### Now fitting initial svm, with C = 1\n"
   ]
  },
  {
   "cell_type": "code",
   "execution_count": 41,
   "id": "5ed02ca9",
   "metadata": {},
   "outputs": [
    {
     "name": "stdout",
     "output_type": "stream",
     "text": [
      "Train Accuracy: 0.9908869510566423\n",
      "Train AUC: 0.7874328996902484\n"
     ]
    }
   ],
   "source": [
    "svm_model = svm.SVC(probability=True)\n",
    "svm_model.fit(X_simp_train, y_simp_train)\n",
    "print(\"Train Accuracy:\", svm_model.score(X_simp_train, y_simp_train))\n",
    "print(\"Train AUC:\", roc_auc_score(y_simp_train, svm_model.predict_proba(X_simp_train)[:, 1]))"
   ]
  },
  {
   "cell_type": "markdown",
   "id": "089a48c4",
   "metadata": {},
   "source": [
    "### Tuning SVM"
   ]
  },
  {
   "cell_type": "code",
   "execution_count": 42,
   "id": "3caf382d",
   "metadata": {},
   "outputs": [
    {
     "name": "stdout",
     "output_type": "stream",
     "text": [
      "Validation AUC: [0.51614 0.62391 0.64218 0.59263 0.55546 0.54416 0.53203]\n",
      "Validation ACC: [0.9901 0.9901 0.9901 0.9901 0.9901 0.9901 0.9901]\n"
     ]
    }
   ],
   "source": [
    "roc_tune = []\n",
    "acc_tune = []\n",
    "for c in [2**(-3), 2**(-2), 2**(-1), 1, 2**(1), 2**(2), 2**(3)]:\n",
    "    svm_v = svm.SVC(C = c, probability=True).fit(X_simp_train, y_simp_train)\n",
    "    roc_tune.append(roc_auc_score(y_simp_tune, svm_v.predict_proba(X_simp_tune)[:, 1]))\n",
    "    acc_tune.append(svm_v.score(X_simp_tune, y_simp_tune))\n",
    "\n",
    "print(\"Validation AUC:\", np.around(roc_tune, 5))\n",
    "print(\"Validation ACC:\", np.around(acc_tune, 5))"
   ]
  },
  {
   "cell_type": "markdown",
   "id": "4acd1f90",
   "metadata": {},
   "source": [
    "### More tuning"
   ]
  },
  {
   "cell_type": "code",
   "execution_count": 43,
   "id": "ac79abde",
   "metadata": {},
   "outputs": [
    {
     "name": "stdout",
     "output_type": "stream",
     "text": [
      "Validation AUC: [0.532   0.49252 0.68277 0.60565 0.56346]\n",
      "Validation ACC: [0.9901 0.9901 0.9901 0.9901 0.9901]\n"
     ]
    }
   ],
   "source": [
    "roc_tune2 = []\n",
    "acc_tune2 = []\n",
    "for c in [2**(-1.75), 2**(-1.5), 2**(-1.25), 2**(-0.75), 2**(-0.5)]:\n",
    "    svm_v = svm.SVC(C = c, probability=True).fit(X_simp_train, y_simp_train)\n",
    "    roc_tune2.append(roc_auc_score(y_simp_tune, svm_v.predict_proba(X_simp_tune)[:, 1]))\n",
    "    acc_tune2.append(svm_v.score(X_simp_tune, y_simp_tune))\n",
    "\n",
    "print(\"Validation AUC:\", np.around(roc_tune2, 5))\n",
    "print(\"Validation ACC:\", np.around(acc_tune2, 5))"
   ]
  },
  {
   "cell_type": "markdown",
   "id": "4ee787ae",
   "metadata": {},
   "source": [
    "### Final SVM Model, C = 1"
   ]
  },
  {
   "cell_type": "code",
   "execution_count": 50,
   "id": "028e3c14",
   "metadata": {},
   "outputs": [
    {
     "name": "stdout",
     "output_type": "stream",
     "text": [
      "Test AUC: 0.5750563731307856\n",
      "Test ACC: 0.9929295309922225\n"
     ]
    },
    {
     "name": "stderr",
     "output_type": "stream",
     "text": [
      "100%|█████████████████████████████████████████████████████████████| 3355/3355 [00:03<00:00, 907.91it/s]\n"
     ]
    },
    {
     "data": {
      "image/png": "[encoded data removed]",
      "text/plain": [
       "<Figure size 1080x720 with 1 Axes>"
      ]
     },
     "metadata": {
      "needs_background": "light"
     },
     "output_type": "display_data"
    }
   ],
   "source": [
    "svm_final = svm.SVC(C = 1, probability=True).fit(pd.concat([X_simp_train, X_simp_tune], axis = 0), \n",
    "                                                                                      np.hstack((y_simp_train, y_simp_tune)))\n",
    "print(\"Test AUC:\", roc_auc_score(y_simp_test, svm_final.predict_proba(X_simp_test)[:, 1])) \n",
    "print(\"Test ACC:\", svm_final.score(X_simp_test, y_simp_test))\n",
    "\n",
    "# Plot the result for the test set\n",
    "validation.all_stats_curve(y_simp_test, svm_final.predict_proba(X_simp_test)[:, 1], plot = True)\n",
    "plt.title('ROC curve for the final SVM model on test set')\n",
    "plt.show()"
   ]
  }
 ],
 "metadata": {
  "kernelspec": {
   "display_name": "rule-env",
   "language": "python",
   "name": "rule-env"
  },
  "language_info": {
   "codemirror_mode": {
    "name": "ipython",
    "version": 3
   },
   "file_extension": ".py",
   "mimetype": "text/x-python",
   "name": "python",
   "nbconvert_exporter": "python",
   "pygments_lexer": "ipython3",
   "version": "3.9.0"
  },
  "latex_envs": {
   "LaTeX_envs_menu_present": true,
   "autoclose": true,
   "autocomplete": false,
   "bibliofile": "biblio.bib",
   "cite_by": "apalike",
   "current_citInitial": 1,
   "eqLabelWithNumbers": true,
   "eqNumInitial": 1,
   "hotkeys": {
    "equation": "Ctrl-E",
    "itemize": "Ctrl-I"
   },
   "labels_anchors": false,
   "latex_user_defs": false,
   "report_style_numbering": true,
   "user_envs_cfg": false
  },
  "toc": {
   "base_numbering": 1,
   "nav_menu": {},
   "number_sections": true,
   "sideBar": true,
   "skip_h1_title": false,
   "title_cell": "Table of Contents",
   "title_sidebar": "Contents",
   "toc_cell": false,
   "toc_position": {},
   "toc_section_display": true,
   "toc_window_display": false
  },
  "varInspector": {
   "cols": {
    "lenName": 16,
    "lenType": 16,
    "lenVar": 40
   },
   "kernels_config": {
    "python": {
     "delete_cmd_postfix": "",
     "delete_cmd_prefix": "del ",
     "library": "var_list.py",
     "varRefreshCmd": "print(var_dic_list())"
    },
    "r": {
     "delete_cmd_postfix": ") ",
     "delete_cmd_prefix": "rm(",
     "library": "var_list.r",
     "varRefreshCmd": "cat(var_dic_list()) "
    }
   },
   "types_to_exclude": [
    "module",
    "function",
    "builtin_function_or_method",
    "instance",
    "_Feature"
   ],
   "window_display": false
  }
 },
 "nbformat": 4,
 "nbformat_minor": 5
}
