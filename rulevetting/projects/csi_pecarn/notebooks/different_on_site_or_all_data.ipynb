{
 "cells": [
  {
   "cell_type": "code",
   "execution_count": null,
   "metadata": {},
   "outputs": [],
   "source": [
    "import glob\n",
    "from os.path import join as oj\n",
    "\n",
    "import numpy as np\n",
    "import os\n",
    "import pandas as pd\n",
    "from tqdm import tqdm\n",
    "from typing import Dict\n",
    "import functools\n",
    "\n",
    "import rulevetting\n",
    "from rulevetting.api import validation, util as api_util\n",
    "from rulevetting.projects.csi_pecarn.dataset import Dataset\n",
    "from rulevetting import DATA_PATH"
   ]
  },
  {
   "cell_type": "markdown",
   "metadata": {},
   "source": [
    "# Get datasets for using only the site data and using all (site, filed, outside) data \n",
    "subscript 1 means only using the site data \n",
    "\n",
    "subscript 2 means using all (site, filed, outside) data \n",
    "\n",
    "Prerequest: need to mannuly change \"only_site_data\" in \"dataset.pu::get_judgement_calls_dictionary()\" to collect the datasets."
   ]
  },
  {
   "cell_type": "code",
   "execution_count": 63,
   "metadata": {},
   "outputs": [],
   "source": [
    "feats1 = ['AlteredMentalStatus', 'FocalNeuroFindings', 'Torticollis', 'PainNeck', 'TenderNeck', 'PosMidNeckTenderness', 'PtCompPainHead', 'PtCompPainFace', 'PtCompPainExt', 'PtCompPainTorsoTrunk', 'PtTenderHead', 'PtTenderFace', 'PtTenderExt', 'PtTenderTorsoTrunk', 'SubInj_Head', 'SubInj_Face', 'SubInj_Ext', 'SubInj_TorsoTrunk', 'Immobilization', 'MedsRecd', 'ArrPtIntub']\n",
    "feats2 = ['AlteredMentalStatus2', 'FocalNeuroFindings2', 'Torticollis2', 'PainNeck2', 'TenderNeck2', 'PosMidNeckTenderness2', 'PtCompPainHead2', 'PtCompPainFace2', 'PtCompPainExt2', 'PtCompPainTorsoTrunk2', 'PtTenderHead2', 'PtTenderFace2', 'PtTenderExt2', 'PtTenderTorsoTrunk2', 'subinj_Head2', 'subinj_Face2', 'subinj_Ext2', 'subinj_TorsoTrunk2', 'Immobilization2', 'MedsRecd2', 'ArrPtIntub2']\n",
    "\n",
    "raw_data_path_1_train = oj(rulevetting.DATA_PATH, Dataset().get_dataset_id(), 'judgement_call/only_site_True/train.csv')\n",
    "raw_data_path_2_train  = oj(rulevetting.DATA_PATH, Dataset().get_dataset_id(), 'judgement_call/only_site_False/train.csv')\n",
    "\n",
    "raw_data_path_1_tune  = oj(rulevetting.DATA_PATH, Dataset().get_dataset_id(), 'judgement_call/only_site_True/tune.csv')\n",
    "raw_data_path_2_tune = oj(rulevetting.DATA_PATH, Dataset().get_dataset_id(), 'judgement_call/only_site_False/tune.csv')\n",
    "\n",
    "raw_data_path_1_test = oj(rulevetting.DATA_PATH, Dataset().get_dataset_id(), 'judgement_call/only_site_True/test.csv')\n",
    "raw_data_path_2_test= oj(rulevetting.DATA_PATH, Dataset().get_dataset_id(), 'judgement_call/only_site_False/test.csv')\n",
    "\n",
    "df_1_train, df_1_tune, df_1_test = pd.read_csv(raw_data_path_1_train),pd.read_csv(raw_data_path_1_tune),pd.read_csv(raw_data_path_1_test)\n",
    "df_1=pd.concat([df_1_train, df_1_tune, df_1_test])\n",
    "df_2_train, df_2_tune, df_2_test = pd.read_csv(raw_data_path_2_train),pd.read_csv(raw_data_path_2_tune),pd.read_csv(raw_data_path_2_test)\n",
    "df_2=pd.concat([df_2_train, df_2_tune, df_2_test])\n",
    "df_1=df_1[feats1]\n",
    "df_2=df_2[feats2]"
   ]
  },
  {
   "cell_type": "markdown",
   "metadata": {},
   "source": [
    "# The difference between using only the site data and using all (site, filed, outside) data \n",
    "The returned number is the percentage of the difference for each features"
   ]
  },
  {
   "cell_type": "code",
   "execution_count": 77,
   "metadata": {},
   "outputs": [
    {
     "name": "stdout",
     "output_type": "stream",
     "text": [
      "AlteredMentalStatus     6.881980\n",
      "FocalNeuroFindings      3.682463\n",
      "Torticollis             0.965892\n",
      "PainNeck                4.799276\n",
      "TenderNeck              2.776939\n",
      "PosMidNeckTenderness    2.143073\n",
      "PtCompPainHead          7.546031\n",
      "PtCompPainFace          2.263809\n",
      "PtCompPainExt           4.255961\n",
      "PtCompPainTorsoTrunk    5.463326\n",
      "PtTenderHead            2.565650\n",
      "PtTenderFace            0.754603\n",
      "PtTenderExt             1.811047\n",
      "PtTenderTorsoTrunk      3.380622\n",
      "SubInj_Head             3.501358\n",
      "SubInj_Face             0.724419\n",
      "SubInj_Ext              1.660127\n",
      "SubInj_TorsoTrunk       2.263809\n",
      "Immobilization          0.814971\n",
      "MedsRecd                0.271657\n",
      "ArrPtIntub              0.000000\n",
      "dtype: float64\n"
     ]
    }
   ],
   "source": [
    "df_1_sum=df_1.sum(axis=0)/df_1.shape[0]*100\n",
    "df_2_sum=df_2.sum(axis=0)/df_1.shape[0]*100\n",
    "df_2_sum.index = feats1\n",
    "df_difference=df_2_sum.subtract(df_1_sum)\n",
    "print(df_difference)"
   ]
  }
 ],
 "metadata": {
  "interpreter": {
   "hash": "3211aa6462dca4ecf66f3e51677d82c9e5ae926ada96495b9b118a8ead138e24"
  },
  "kernelspec": {
   "display_name": "Python 3.7.12 64-bit ('3.7.12': pyenv)",
   "language": "python",
   "name": "python3"
  },
  "language_info": {
   "codemirror_mode": {
    "name": "ipython",
    "version": 3
   },
   "file_extension": ".py",
   "mimetype": "text/x-python",
   "name": "python",
   "nbconvert_exporter": "python",
   "pygments_lexer": "ipython3",
   "version": "3.7.12"
  },
  "orig_nbformat": 4
 },
 "nbformat": 4,
 "nbformat_minor": 2
}
