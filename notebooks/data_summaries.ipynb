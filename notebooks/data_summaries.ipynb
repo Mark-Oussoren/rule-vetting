{
 "cells": [
  {
   "cell_type": "code",
   "execution_count": 1,
   "id": "9b86c1a4",
   "metadata": {},
   "outputs": [],
   "source": [
    "from rulevetting.dataset import DatasetTemplate"
   ]
  },
  {
   "cell_type": "code",
   "execution_count": 2,
   "id": "1a3e3df1",
   "metadata": {},
   "outputs": [],
   "source": [
    "d = DatasetTemplate()"
   ]
  },
  {
   "cell_type": "code",
   "execution_count": 3,
   "id": "27e00d7f",
   "metadata": {},
   "outputs": [
    {
     "data": {
      "text/plain": [
       "<mrules.dataset.DatasetTemplate at 0x107e40b00>"
      ]
     },
     "execution_count": 3,
     "metadata": {},
     "output_type": "execute_result"
    }
   ],
   "source": [
    "d"
   ]
  },
  {
   "cell_type": "code",
   "execution_count": 5,
   "id": "6574dba1",
   "metadata": {},
   "outputs": [
    {
     "data": {
      "text/plain": [
       "NotImplemented"
      ]
     },
     "execution_count": 5,
     "metadata": {},
     "output_type": "execute_result"
    }
   ],
   "source": [
    "d.clean_data('')"
   ]
  },
  {
   "cell_type": "code",
   "execution_count": 6,
   "id": "4e14e057",
   "metadata": {},
   "outputs": [],
   "source": [
    "import sys"
   ]
  },
  {
   "cell_type": "code",
   "execution_count": 7,
   "id": "4bb460c7",
   "metadata": {},
   "outputs": [
    {
     "ename": "SyntaxError",
     "evalue": "invalid syntax (2521432827.py, line 1)",
     "output_type": "error",
     "traceback": [
      "\u001B[0;36m  File \u001B[0;32m\"/var/folders/01/fl5q4n5547v1g4z0hw_v_mrc0000gn/T/ipykernel_36530/2521432827.py\"\u001B[0;36m, line \u001B[0;32m1\u001B[0m\n\u001B[0;31m    imoprt projects\u001B[0m\n\u001B[0m                  ^\u001B[0m\n\u001B[0;31mSyntaxError\u001B[0m\u001B[0;31m:\u001B[0m invalid syntax\n"
     ]
    }
   ],
   "source": [
    "imoprt projects"
   ]
  },
  {
   "cell_type": "code",
   "execution_count": 8,
   "id": "182b7eb3",
   "metadata": {},
   "outputs": [],
   "source": [
    "sys.path.append('..')"
   ]
  },
  {
   "cell_type": "code",
   "execution_count": 9,
   "id": "128d967c",
   "metadata": {},
   "outputs": [],
   "source": [
    "import projects"
   ]
  },
  {
   "cell_type": "code",
   "execution_count": 10,
   "id": "fc34c6c9",
   "metadata": {},
   "outputs": [
    {
     "data": {
      "text/plain": [
       "['__builtins__',\n",
       " '__cached__',\n",
       " '__doc__',\n",
       " '__file__',\n",
       " '__loader__',\n",
       " '__name__',\n",
       " '__package__',\n",
       " '__path__',\n",
       " '__spec__']"
      ]
     },
     "execution_count": 10,
     "metadata": {},
     "output_type": "execute_result"
    }
   ],
   "source": [
    "dir(projects)"
   ]
  },
  {
   "cell_type": "code",
   "execution_count": 12,
   "id": "ad3574d0",
   "metadata": {},
   "outputs": [],
   "source": [
    "from projects.iai_pecarn import *"
   ]
  },
  {
   "cell_type": "code",
   "execution_count": 13,
   "id": "e304c3db",
   "metadata": {},
   "outputs": [],
   "source": [
    "import pkgutil"
   ]
  },
  {
   "cell_type": "code",
   "execution_count": 18,
   "id": "8102c125",
   "metadata": {},
   "outputs": [
    {
     "name": "stdout",
     "output_type": "stream",
     "text": [
      "ModuleInfo(module_finder=FileFinder('/Volumes/GoogleDrive/My Drive/research/medical_rules/medical-rules/projects'), name='iai_pecarn', ispkg=True)\n",
      "ModuleInfo(module_finder=FileFinder('/Volumes/GoogleDrive/My Drive/research/medical_rules/medical-rules/projects'), name='tbi_pecarn', ispkg=True)\n"
     ]
    }
   ],
   "source": [
    "for submodule in list(pkgutil.iter_modules(projects.__path__)):\n",
    "    print(submodule)"
   ]
  },
  {
   "cell_type": "code",
   "execution_count": null,
   "id": "a61a6e19",
   "metadata": {},
   "outputs": [],
   "source": []
  }
 ],
 "metadata": {
  "kernelspec": {
   "display_name": "Python 3 (ipykernel)",
   "language": "python",
   "name": "python3"
  },
  "language_info": {
   "codemirror_mode": {
    "name": "ipython",
    "version": 3
   },
   "file_extension": ".py",
   "mimetype": "text/x-python",
   "name": "python",
   "nbconvert_exporter": "python",
   "pygments_lexer": "ipython3",
   "version": "3.7.0"
  }
 },
 "nbformat": 4,
 "nbformat_minor": 5
}